{
  "nbformat": 4,
  "nbformat_minor": 0,
  "metadata": {
    "colab": {
      "provenance": [],
      "mount_file_id": "1WVV9o1krjio3jiP6b7CjjcDyZRsymB1H",
      "authorship_tag": "ABX9TyNg+gCW5vohcsS2hWgqGAR5",
      "include_colab_link": true
    },
    "kernelspec": {
      "name": "python3",
      "display_name": "Python 3"
    },
    "language_info": {
      "name": "python"
    }
  },
  "cells": [
    {
      "cell_type": "markdown",
      "metadata": {
        "id": "view-in-github",
        "colab_type": "text"
      },
      "source": [
        "<a href=\"https://colab.research.google.com/github/kulkarnisatishp/genai-course/blob/main/Agentic_Rag_Satish.ipynb\" target=\"_parent\"><img src=\"https://colab.research.google.com/assets/colab-badge.svg\" alt=\"Open In Colab\"/></a>"
      ]
    },
    {
      "cell_type": "code",
      "execution_count": null,
      "metadata": {
        "id": "9iG7ly0mHUut"
      },
      "outputs": [],
      "source": []
    },
    {
      "cell_type": "code",
      "source": [
        "from google.colab import drive\n",
        "drive.mount('/content/drive')"
      ],
      "metadata": {
        "colab": {
          "base_uri": "https://localhost:8080/"
        },
        "id": "qlLeFPzxHXt3",
        "outputId": "a695590a-bb8d-44e1-90c7-2459a883d404"
      },
      "execution_count": 1,
      "outputs": [
        {
          "output_type": "stream",
          "name": "stdout",
          "text": [
            "Drive already mounted at /content/drive; to attempt to forcibly remount, call drive.mount(\"/content/drive\", force_remount=True).\n"
          ]
        }
      ]
    },
    {
      "cell_type": "code",
      "source": [
        "from google.colab import userdata\n",
        "api_key = userdata.get('openai_key')"
      ],
      "metadata": {
        "id": "K22zqNc2HZ0-"
      },
      "execution_count": 2,
      "outputs": []
    },
    {
      "cell_type": "code",
      "source": [
        "!pip install -q langchain-community langchain-openai unstructured faiss-cpu langgraph"
      ],
      "metadata": {
        "colab": {
          "base_uri": "https://localhost:8080/"
        },
        "collapsed": true,
        "id": "ZawG9QerHmh4",
        "outputId": "c6fe1fdc-3df0-4d88-ce5d-6c9466f4b1b1"
      },
      "execution_count": 3,
      "outputs": [
        {
          "output_type": "stream",
          "name": "stdout",
          "text": [
            "\u001b[?25l     \u001b[90m━━━━━━━━━━━━━━━━━━━━━━━━━━━━━━━━━━━━━━━━\u001b[0m \u001b[32m0.0/981.5 kB\u001b[0m \u001b[31m?\u001b[0m eta \u001b[36m-:--:--\u001b[0m\r\u001b[2K     \u001b[91m━━━━━━━━━━━━━━━\u001b[0m\u001b[90m╺\u001b[0m\u001b[90m━━━━━━━━━━━━━━━━━━━━━━━━\u001b[0m \u001b[32m378.9/981.5 kB\u001b[0m \u001b[31m11.1 MB/s\u001b[0m eta \u001b[36m0:00:01\u001b[0m\r\u001b[2K     \u001b[90m━━━━━━━━━━━━━━━━━━━━━━━━━━━━━━━━━━━━━━━━\u001b[0m \u001b[32m981.5/981.5 kB\u001b[0m \u001b[31m15.2 MB/s\u001b[0m eta \u001b[36m0:00:00\u001b[0m\n",
            "\u001b[?25h  Preparing metadata (setup.py) ... \u001b[?25l\u001b[?25hdone\n",
            "\u001b[2K   \u001b[90m━━━━━━━━━━━━━━━━━━━━━━━━━━━━━━━━━━━━━━━━\u001b[0m \u001b[32m2.4/2.4 MB\u001b[0m \u001b[31m50.9 MB/s\u001b[0m eta \u001b[36m0:00:00\u001b[0m\n",
            "\u001b[2K   \u001b[90m━━━━━━━━━━━━━━━━━━━━━━━━━━━━━━━━━━━━━━━━\u001b[0m \u001b[32m50.6/50.6 kB\u001b[0m \u001b[31m3.7 MB/s\u001b[0m eta \u001b[36m0:00:00\u001b[0m\n",
            "\u001b[2K   \u001b[90m━━━━━━━━━━━━━━━━━━━━━━━━━━━━━━━━━━━━━━━━\u001b[0m \u001b[32m1.7/1.7 MB\u001b[0m \u001b[31m47.5 MB/s\u001b[0m eta \u001b[36m0:00:00\u001b[0m\n",
            "\u001b[2K   \u001b[90m━━━━━━━━━━━━━━━━━━━━━━━━━━━━━━━━━━━━━━━━\u001b[0m \u001b[32m27.5/27.5 MB\u001b[0m \u001b[31m37.9 MB/s\u001b[0m eta \u001b[36m0:00:00\u001b[0m\n",
            "\u001b[2K   \u001b[90m━━━━━━━━━━━━━━━━━━━━━━━━━━━━━━━━━━━━━━━━\u001b[0m \u001b[32m125.1/125.1 kB\u001b[0m \u001b[31m9.4 MB/s\u001b[0m eta \u001b[36m0:00:00\u001b[0m\n",
            "\u001b[2K   \u001b[90m━━━━━━━━━━━━━━━━━━━━━━━━━━━━━━━━━━━━━━━━\u001b[0m \u001b[32m1.0/1.0 MB\u001b[0m \u001b[31m40.2 MB/s\u001b[0m eta \u001b[36m0:00:00\u001b[0m\n",
            "\u001b[2K   \u001b[90m━━━━━━━━━━━━━━━━━━━━━━━━━━━━━━━━━━━━━━━━\u001b[0m \u001b[32m409.5/409.5 kB\u001b[0m \u001b[31m23.8 MB/s\u001b[0m eta \u001b[36m0:00:00\u001b[0m\n",
            "\u001b[2K   \u001b[90m━━━━━━━━━━━━━━━━━━━━━━━━━━━━━━━━━━━━━━━━\u001b[0m \u001b[32m3.1/3.1 MB\u001b[0m \u001b[31m48.8 MB/s\u001b[0m eta \u001b[36m0:00:00\u001b[0m\n",
            "\u001b[2K   \u001b[90m━━━━━━━━━━━━━━━━━━━━━━━━━━━━━━━━━━━━━━━━\u001b[0m \u001b[32m1.2/1.2 MB\u001b[0m \u001b[31m57.2 MB/s\u001b[0m eta \u001b[36m0:00:00\u001b[0m\n",
            "\u001b[2K   \u001b[90m━━━━━━━━━━━━━━━━━━━━━━━━━━━━━━━━━━━━━━━━\u001b[0m \u001b[32m586.9/586.9 kB\u001b[0m \u001b[31m39.7 MB/s\u001b[0m eta \u001b[36m0:00:00\u001b[0m\n",
            "\u001b[2K   \u001b[90m━━━━━━━━━━━━━━━━━━━━━━━━━━━━━━━━━━━━━━━━\u001b[0m \u001b[32m274.9/274.9 kB\u001b[0m \u001b[31m19.9 MB/s\u001b[0m eta \u001b[36m0:00:00\u001b[0m\n",
            "\u001b[2K   \u001b[90m━━━━━━━━━━━━━━━━━━━━━━━━━━━━━━━━━━━━━━━━\u001b[0m \u001b[32m3.1/3.1 MB\u001b[0m \u001b[31m57.1 MB/s\u001b[0m eta \u001b[36m0:00:00\u001b[0m\n",
            "\u001b[2K   \u001b[90m━━━━━━━━━━━━━━━━━━━━━━━━━━━━━━━━━━━━━━━━\u001b[0m \u001b[32m62.9/62.9 kB\u001b[0m \u001b[31m5.3 MB/s\u001b[0m eta \u001b[36m0:00:00\u001b[0m\n",
            "\u001b[2K   \u001b[90m━━━━━━━━━━━━━━━━━━━━━━━━━━━━━━━━━━━━━━━━\u001b[0m \u001b[32m49.5/49.5 kB\u001b[0m \u001b[31m3.6 MB/s\u001b[0m eta \u001b[36m0:00:00\u001b[0m\n",
            "\u001b[2K   \u001b[90m━━━━━━━━━━━━━━━━━━━━━━━━━━━━━━━━━━━━━━━━\u001b[0m \u001b[32m298.0/298.0 kB\u001b[0m \u001b[31m21.7 MB/s\u001b[0m eta \u001b[36m0:00:00\u001b[0m\n",
            "\u001b[2K   \u001b[90m━━━━━━━━━━━━━━━━━━━━━━━━━━━━━━━━━━━━━━━━\u001b[0m \u001b[32m114.6/114.6 kB\u001b[0m \u001b[31m7.9 MB/s\u001b[0m eta \u001b[36m0:00:00\u001b[0m\n",
            "\u001b[?25h  Building wheel for langdetect (setup.py) ... \u001b[?25l\u001b[?25hdone\n"
          ]
        }
      ]
    },
    {
      "cell_type": "code",
      "source": [
        "%cd /content/drive/MyDrive/GenAI/RAG/Agentic RAG"
      ],
      "metadata": {
        "colab": {
          "base_uri": "https://localhost:8080/"
        },
        "id": "GgCc9UPPH3CX",
        "outputId": "92ca8843-ce72-42ce-87c2-3ff501c58828"
      },
      "execution_count": 4,
      "outputs": [
        {
          "output_type": "stream",
          "name": "stdout",
          "text": [
            "/content/drive/MyDrive/GenAI/RAG/Agentic RAG\n"
          ]
        }
      ]
    },
    {
      "cell_type": "code",
      "source": [
        "from langchain_community.document_loaders import UnstructuredExcelLoader\n",
        "from langchain.text_splitter import RecursiveCharacterTextSplitter\n",
        "from langchain.vectorstores.faiss import FAISS\n",
        "from langchain.prompts import ChatPromptTemplate\n",
        "from langchain_openai import ChatOpenAI, OpenAIEmbeddings\n",
        "from langchain.schema.output_parser import StrOutputParser\n",
        "from langchain.schema.runnable import RunnablePassthrough\n",
        "\n",
        "from typing import List\n",
        "from typing_extensions import TypedDict\n",
        "from IPython.display import Markdown, display, Image\n",
        "\n",
        "from langgraph.graph import StateGraph, END\n",
        "\n"
      ],
      "metadata": {
        "id": "wfKHKQyJINJe"
      },
      "execution_count": 5,
      "outputs": []
    },
    {
      "cell_type": "code",
      "source": [
        "file = 'dim sum montijo.xlsx'\n",
        "loader = UnstructuredExcelLoader(file, mode = \"elements\")\n",
        "data = loader.load()\n",
        "\n",
        "embeddings = OpenAIEmbeddings(openai_api_key=api_key)\n",
        "db_faiss = FAISS.from_documents(data, embeddings)"
      ],
      "metadata": {
        "id": "a0mMQX0YJ4dP"
      },
      "execution_count": 6,
      "outputs": []
    },
    {
      "cell_type": "code",
      "source": [
        "class AgentState(TypedDict):\n",
        "  start: bool\n",
        "  conversation: int\n",
        "  question: str\n",
        "  answer: str\n",
        "  topic: bool\n",
        "  documents: list\n",
        "  recursion_limit: int\n",
        "  memory: list"
      ],
      "metadata": {
        "id": "303GldvxNO0s"
      },
      "execution_count": 7,
      "outputs": []
    },
    {
      "cell_type": "code",
      "source": [
        "def greetings(state):\n",
        "  print(\"Hello! Welcome to the restaurant. I will be your waiter. How can I help you?\")\n",
        "  user_input = input()\n",
        "  state['start'] = True\n",
        "  state['conversation'] = 1\n",
        "  state['question'] = user_input\n",
        "  state['memory'] = [user_input]\n",
        "  return state"
      ],
      "metadata": {
        "id": "Q0Kx5tAuirEE"
      },
      "execution_count": 8,
      "outputs": []
    },
    {
      "cell_type": "code",
      "source": [
        "def check_question(state):\n",
        "\n",
        "  question = state['question']\n",
        "  docs = db_faiss.similarity_search(question)\n",
        "  system_prompt = \"\"\"\n",
        "  You are a grader evaluating the appropriateness of the a customer's question to a waiter or waitress in a restaurant.\n",
        "  Asses if the question is suitable to as the restaurant staff and if the customer shows interest in continuing the conversation.\n",
        "  Respond with \"True\" if the question is appropriate for the staff or indicates the customer is asking a question or giving you information.\n",
        "  Otherwise respond with \"False\".\n",
        "  Provide only \"True\" or \"False\" in your response.\n",
        "  \"\"\"\n",
        "  TEMPLATE  = ChatPromptTemplate.from_messages([\n",
        "      (\"system\", system_prompt),\n",
        "      (\"human\", \"User Question: {question}\"),\n",
        "  ])\n",
        "  prompt = TEMPLATE.format(question=question)\n",
        "  model = ChatOpenAI(model=\"gpt-4o-mini\", openai_api_key=api_key)\n",
        "  response_text = model.invoke(prompt)\n",
        "  state['topic'] = response_text.content\n",
        "  return state"
      ],
      "metadata": {
        "id": "SHCeoviG4nQw"
      },
      "execution_count": 9,
      "outputs": []
    },
    {
      "cell_type": "code",
      "source": [
        "def topic_router(state):\n",
        "  topic = state['topic']\n",
        "  if topic == \"True\":\n",
        "    return \"on_topic\"\n",
        "  else:\n",
        "    return \"off_topic\"\n",
        "\n",
        "def off_topic_response(state):\n",
        "  if state['conversation'] <=1:\n",
        "    state['answer'] = \"\\n I apologize, I can't answer that question. I can only answer questions about the menu in this restaurant.\"\n",
        "    print(state['answer'])\n",
        "  else:\n",
        "    state['answer'] = \"\\n Happy to help.\"\n",
        "    print(state['answer'])"
      ],
      "metadata": {
        "id": "NTaMiBvUmwhF"
      },
      "execution_count": 10,
      "outputs": []
    },
    {
      "cell_type": "code",
      "source": [
        "def retrieve_docs(state):\n",
        "  memory = \", \".join(state['memory'])\n",
        "  docs_faiss = db_faiss.similarity_search(str(memory), k = 5)\n",
        "  state['documents'] = [doc.page_content for doc in docs_faiss]\n",
        "\n",
        "  return state"
      ],
      "metadata": {
        "id": "faug59dUqizd"
      },
      "execution_count": 11,
      "outputs": []
    },
    {
      "cell_type": "code",
      "source": [
        "from re import TEMPLATE\n",
        "def generate(state):\n",
        "  model = ChatOpenAI(model=\"gpt-4o-mini\", openai_api_key=api_key)\n",
        "  question = state['question']\n",
        "  documents = state['documents']\n",
        "  memory = state['memory']\n",
        "\n",
        "  system_prompt = \"\"\"\n",
        "    You are a waiter at a restaurant tasked with answering customer's questions about the menu.\n",
        "    Answer the question in the manner of a waiter, avoiding being too verbose or too brief.\n",
        "    Do not include \"waiter\" or refer to yourself explicitly in your answer.\n",
        "    \"\"\"\n",
        "      # Create a prompt template for formatting\n",
        "  TEMPLATE = ChatPromptTemplate.from_messages([\n",
        "        (\"system\", system_prompt),\n",
        "        (\"human\", \"Context: {documents}\\nConversation history so far: {memory}\\nCustomer question: {question}\"),\n",
        "    ])\n",
        "\n",
        "    # Format the prompt with the retrieved documents, conversation history, and customer's question\n",
        "  prompt = TEMPLATE.format(documents=documents, memory=memory, question=question)\n",
        "\n",
        "    # Invoke the model to generate an answer\n",
        "  response_text = model.invoke(prompt)\n",
        "\n",
        "    # Store the generated answer in the state\n",
        "  state[\"answer\"] = response_text.content.strip()\n",
        "\n",
        "  return state"
      ],
      "metadata": {
        "id": "1rgtplhI55-N"
      },
      "execution_count": 18,
      "outputs": []
    },
    {
      "cell_type": "code",
      "source": [
        "def improve_answer(state):\n",
        "    # Extract necessary information from the state\n",
        "    question = state['question']\n",
        "    answer = state['answer']\n",
        "    memory = state['memory']\n",
        "\n",
        "    # Define the system prompt for refining the answer\n",
        "    system = \"\"\"\n",
        "    As a waiter, review and refine the response to a customer's question. Your task is to:\n",
        "\n",
        "    1. Ensure the answer is appropriate, friendly, and informative.\n",
        "    2. Edit or remove parts of the answer as needed, without adding new information.\n",
        "    3. Maintain a polite, professional, and attentive tone.\n",
        "    4. Provide only the improved answer, without any introductory phrases or commentary.\n",
        "    5. Conclude the response with an open-ended question to invite further inquiries or address additional needs.\n",
        "    6. Consider the conversation history to be more informative and useful.\n",
        "    7. Include line breaks (`\\n`) at the end of each sentence or logical break.\n",
        "\n",
        "    Deliver a refined response that enhances the customer's experience and reflects the restaurant's commitment to customer service.\n",
        "    \"\"\"\n",
        "\n",
        "    # Create a prompt template for formatting\n",
        "    TEMPLATE = ChatPromptTemplate.from_messages([\n",
        "        (\"system\", system),\n",
        "        (\"human\", \"Customer question: {question}\\nConversation history: {memory}\\nWaiter's initial answer: {answer}\"),\n",
        "    ])\n",
        "\n",
        "    # Initialize the language model\n",
        "    model = ChatOpenAI(model=\"gpt-4o-mini\", api_key=api_key)\n",
        "\n",
        "    # Format the prompt with the necessary information\n",
        "    prompt = TEMPLATE.format(question=question, memory=memory, answer=answer)\n",
        "\n",
        "    # Invoke the model to improve the answer\n",
        "    response_text = model.invoke(prompt)\n",
        "\n",
        "    # Update the state with the improved answer\n",
        "    state['answer'] = response_text.content.strip()\n",
        "\n",
        "    # Display the improved answer\n",
        "    print('\\n')\n",
        "    print(state['answer'])\n",
        "\n",
        "    # Append the improved answer to the conversation history\n",
        "    state['memory'].append(state['answer'])\n",
        "\n",
        "    return state"
      ],
      "metadata": {
        "id": "rJ9IOQVXsgij"
      },
      "execution_count": 25,
      "outputs": []
    },
    {
      "cell_type": "code",
      "source": [
        "def further_question(state):\n",
        "  print('\\n')\n",
        "  user_input = input()\n",
        "  state['question'] = user_input\n",
        "  state['memory'].append(user_input)\n",
        "  state['conversation'] += 1\n",
        "  return state"
      ],
      "metadata": {
        "id": "exx0E_5Dzihy"
      },
      "execution_count": 28,
      "outputs": []
    },
    {
      "cell_type": "code",
      "source": [
        "workflow = StateGraph(AgentState)\n",
        "workflow.add_node(\"greetings\",greetings)\n",
        "workflow.add_node(\"check_question\",check_question)\n",
        "workflow.add_node(\"off_topic_response\",off_topic_response)\n",
        "workflow.add_node(\"retrieve_docs\",retrieve_docs)\n",
        "workflow.add_node(\"generate\",generate)\n",
        "workflow.add_node(\"improve_answer\",improve_answer)\n",
        "workflow.add_node(\"further_question\",further_question)\n",
        "\n",
        "\n",
        "\n",
        "workflow.set_entry_point(\"greetings\")\n",
        "\n",
        "workflow.add_conditional_edges(\n",
        "    \"check_question\",\n",
        "    topic_router,\n",
        "    {\n",
        "        \"on_topic\": \"retrieve_docs\",\n",
        "        \"off_topic\": \"off_topic_response\"\n",
        "    }\n",
        "\n",
        ")\n",
        "\n",
        "workflow.add_edge(\"greetings\",\"check_question\")\n",
        "workflow.add_edge(\"retrieve_docs\",\"generate\")\n",
        "workflow.add_edge(\"off_topic_response\", END)\n",
        "workflow.add_edge(\"generate\",\"improve_answer\")\n",
        "workflow.add_edge(\"improve_answer\", \"further_question\")\n",
        "workflow.add_edge(\"further_question\", \"check_question\")\n",
        "app = workflow.compile()"
      ],
      "metadata": {
        "id": "OgJZU1NXiLfj"
      },
      "execution_count": 29,
      "outputs": []
    },
    {
      "cell_type": "code",
      "source": [
        "display(Image(app.get_graph(xray = True).draw_mermaid_png()))"
      ],
      "metadata": {
        "colab": {
          "base_uri": "https://localhost:8080/",
          "height": 686
        },
        "id": "a7JqHUEMj93q",
        "outputId": "bba63d06-f9a4-4410-fdd5-f69753aaaf25",
        "collapsed": true
      },
      "execution_count": 30,
      "outputs": [
        {
          "output_type": "display_data",
          "data": {
            "image/png": "[encoded data removed]",
            "text/plain": [
              "<IPython.core.display.Image object>"
            ]
          },
          "metadata": {}
        }
      ]
    },
    {
      "cell_type": "code",
      "source": [
        "result = app.invoke({\"start\":True},{\"recursion_limit\":50})\n",
        "print(result['answer'])"
      ],
      "metadata": {
        "id": "zQCGGEc0iRDB",
        "colab": {
          "base_uri": "https://localhost:8080/"
        },
        "outputId": "e6d2435c-7f9e-47b8-f4f3-7858e022ab8a"
      },
      "execution_count": 32,
      "outputs": [
        {
          "output_type": "stream",
          "name": "stdout",
          "text": [
            "Hello! Welcome to the restaurant. I will be your waiter. How can I help you?\n",
            "What is your reco?\n",
            "\n",
            "\n",
            "I recommend trying the Siao Long Pao, especially the Traditional version with pork, paksoy, and shiitake mushroom.  \n",
            "\n",
            "It's a delightful dish with a wonderful balance of flavors.  \n",
            "\n",
            "If you're in the mood for something crispy, the Gyoza, particularly the shrimp or duck options, are also fantastic choices.  \n",
            "\n",
            "Pairing either with a refreshing cold tea will enhance your dining experience!  \n",
            "\n",
            "Is there a specific type of dish you're in the mood for, or any dietary preferences I should consider?\n",
            "\n",
            "\n",
            "suggestion for pairing?\n",
            "\n",
            "\n",
            "I recommend pairing the Siao Long Pao with a glass of our Lello White or Red wine, as the wine's acidity beautifully complements the rich flavors of the dumplings.  \n",
            "\n",
            "If you prefer non-alcoholic options, our Cold Teas, such as the Mint & Pineapple or Green Tea with Ginger and Lemon, also pair wonderfully and add a refreshing touch to your meal.  \n",
            "\n",
            "Is there anything else you would like assistance with regarding your order?\n",
            "\n",
            "\n",
            "I have allergies\n",
            "\n",
            "\n",
            "Could you please specify which allergies you have?  \n",
            "\n",
            "This information will help me recommend suitable dishes from the menu that are safe for you to enjoy.  \n",
            "\n",
            "Is there anything else you would like to know or any other preferences I should consider?\n",
            "\n",
            "\n",
            "Nuts\n",
            "\n",
            " Happy to help.\n",
            "Could you please specify which allergies you have?  \n",
            "\n",
            "This information will help me recommend suitable dishes from the menu that are safe for you to enjoy.  \n",
            "\n",
            "Is there anything else you would like to know or any other preferences I should consider?\n"
          ]
        }
      ]
    },
    {
      "cell_type": "code",
      "source": [],
      "metadata": {
        "id": "JB9k8pjAvDeS"
      },
      "execution_count": null,
      "outputs": []
    },
    {
      "cell_type": "markdown",
      "source": [],
      "metadata": {
        "id": "ufPunS8kv1RP"
      }
    }
  ]
}