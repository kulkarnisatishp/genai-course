{
  "nbformat": 4,
  "nbformat_minor": 0,
  "metadata": {
    "colab": {
      "provenance": [],
      "mount_file_id": "11TKuETCEmA_LNx76YyeSe_zlSr-BKGDx",
      "authorship_tag": "ABX9TyOVAaw0DPrhp0DjCG5jwWlG",
      "include_colab_link": true
    },
    "kernelspec": {
      "name": "python3",
      "display_name": "Python 3"
    },
    "language_info": {
      "name": "python"
    }
  },
  "cells": [
    {
      "cell_type": "markdown",
      "metadata": {
        "id": "view-in-github",
        "colab_type": "text"
      },
      "source": [
        "<a href=\"https://colab.research.google.com/github/kulkarnisatishp/genai-course/blob/main/image_to_excel.ipynb\" target=\"_parent\"><img src=\"https://colab.research.google.com/assets/colab-badge.svg\" alt=\"Open In Colab\"/></a>"
      ]
    },
    {
      "cell_type": "code",
      "execution_count": 1,
      "metadata": {
        "colab": {
          "base_uri": "https://localhost:8080/"
        },
        "id": "CZ4b8EJaw0VA",
        "outputId": "99699031-8970-4bd7-aa0b-a3659338db50"
      },
      "outputs": [
        {
          "output_type": "stream",
          "name": "stdout",
          "text": [
            "Drive already mounted at /content/drive; to attempt to forcibly remount, call drive.mount(\"/content/drive\", force_remount=True).\n"
          ]
        }
      ],
      "source": [
        "from google.colab import drive\n",
        "drive.mount('/content/drive')"
      ]
    },
    {
      "cell_type": "code",
      "source": [
        "directory = \"/content/drive/MyDrive/GenAI/OpenAI/OpenAI Project\""
      ],
      "metadata": {
        "id": "Zz8ZVLsx6uCe"
      },
      "execution_count": 11,
      "outputs": []
    },
    {
      "cell_type": "code",
      "source": [
        "!pip install openai"
      ],
      "metadata": {
        "colab": {
          "base_uri": "https://localhost:8080/"
        },
        "collapsed": true,
        "id": "wXmGQaLW6z6l",
        "outputId": "42ef592e-f254-4a18-85de-ac3fe7926f0f"
      },
      "execution_count": 3,
      "outputs": [
        {
          "output_type": "stream",
          "name": "stdout",
          "text": [
            "Requirement already satisfied: openai in /usr/local/lib/python3.10/dist-packages (1.54.4)\n",
            "Requirement already satisfied: anyio<5,>=3.5.0 in /usr/local/lib/python3.10/dist-packages (from openai) (3.7.1)\n",
            "Requirement already satisfied: distro<2,>=1.7.0 in /usr/local/lib/python3.10/dist-packages (from openai) (1.9.0)\n",
            "Requirement already satisfied: httpx<1,>=0.23.0 in /usr/local/lib/python3.10/dist-packages (from openai) (0.27.2)\n",
            "Requirement already satisfied: jiter<1,>=0.4.0 in /usr/local/lib/python3.10/dist-packages (from openai) (0.7.1)\n",
            "Requirement already satisfied: pydantic<3,>=1.9.0 in /usr/local/lib/python3.10/dist-packages (from openai) (2.9.2)\n",
            "Requirement already satisfied: sniffio in /usr/local/lib/python3.10/dist-packages (from openai) (1.3.1)\n",
            "Requirement already satisfied: tqdm>4 in /usr/local/lib/python3.10/dist-packages (from openai) (4.66.6)\n",
            "Requirement already satisfied: typing-extensions<5,>=4.11 in /usr/local/lib/python3.10/dist-packages (from openai) (4.12.2)\n",
            "Requirement already satisfied: idna>=2.8 in /usr/local/lib/python3.10/dist-packages (from anyio<5,>=3.5.0->openai) (3.10)\n",
            "Requirement already satisfied: exceptiongroup in /usr/local/lib/python3.10/dist-packages (from anyio<5,>=3.5.0->openai) (1.2.2)\n",
            "Requirement already satisfied: certifi in /usr/local/lib/python3.10/dist-packages (from httpx<1,>=0.23.0->openai) (2024.8.30)\n",
            "Requirement already satisfied: httpcore==1.* in /usr/local/lib/python3.10/dist-packages (from httpx<1,>=0.23.0->openai) (1.0.6)\n",
            "Requirement already satisfied: h11<0.15,>=0.13 in /usr/local/lib/python3.10/dist-packages (from httpcore==1.*->httpx<1,>=0.23.0->openai) (0.14.0)\n",
            "Requirement already satisfied: annotated-types>=0.6.0 in /usr/local/lib/python3.10/dist-packages (from pydantic<3,>=1.9.0->openai) (0.7.0)\n",
            "Requirement already satisfied: pydantic-core==2.23.4 in /usr/local/lib/python3.10/dist-packages (from pydantic<3,>=1.9.0->openai) (2.23.4)\n"
          ]
        }
      ]
    },
    {
      "cell_type": "code",
      "source": [
        "from google.colab import userdata\n",
        "openai_api_key = userdata.get('openai_key')"
      ],
      "metadata": {
        "id": "eMv_ecFq7EDi"
      },
      "execution_count": 4,
      "outputs": []
    },
    {
      "cell_type": "code",
      "source": [
        "from openai import OpenAI\n",
        "import os\n",
        "import base64\n",
        "from IPython.display import Image, display\n",
        "import pandas as pd"
      ],
      "metadata": {
        "id": "afVKKtUE7QkS"
      },
      "execution_count": 5,
      "outputs": []
    },
    {
      "cell_type": "code",
      "source": [
        "MODEL = \"gpt-4o\"\n",
        "client = OpenAI(api_key = openai_api_key)"
      ],
      "metadata": {
        "id": "sQctGISE75tw"
      },
      "execution_count": 6,
      "outputs": []
    },
    {
      "cell_type": "code",
      "source": [
        "system_prompt = \"\"\"\n",
        "Convert the menu image to a structured excel sheet format following the provided template and instructions.\n",
        "This assistant converts restaurant or cafe menu data into a structured Excel sheet that adheres to a specific template.\n",
        "The template includes categories, subcategories, item names, prices, descriptions, and more, ensuring data consistency.\n",
        "This assistant helps users fill out each row correctly, following the detailed instructions provided.\n",
        "\n",
        "Overview:\n",
        "- Each row in the Excel spreadsheet represents a unique item, categorized under a category or subcategory.\n",
        "- Category and subcategory names are repeated for items within the same subcategory.\n",
        "- Certain columns are left blank when not applicable, such as subcategory details for items directly under a category.\n",
        "- Item details, including names, prices, and descriptions, must be unique for each entry.\n",
        "- Uploaded menu content will be appended to the existing menu without deleting any current entries.\n",
        "\n",
        "Columns Guide:\n",
        "\n",
        "Column Name                    | Description                               | Accepted Values           | Example\n",
        "-------------------------------|-------------------------------------------|---------------------------|-----------------------\n",
        "CategoryTitlePt (Column A)      | Category names in Portuguese              | Text, 256 characters max  | Bebidas\n",
        "CategoryTitleEn (Column B) (Optional) | English translations of category titles | Text, 256 characters max  | Beverages\n",
        "SubcategoryTitlePt (Column C) (Optional) | Subcategory titles in Portuguese | Text, 256 characters max or blank | Sucos\n",
        "SubcategoryTitleEn (Column D) (Optional) | English translations of subcategory titles | Text, 256 characters max or blank | Juices\n",
        "ItemNamePt (Column E)           | Item names in Portuguese                  | Text, 256 characters max  | Água Mineral\n",
        "ItemNameEn (Column F) (Optional) | English translations of item names | Text, 256 characters max or blank | Mineral Water\n",
        "ItemPrice (Column G)          | Price of each item without currency symbol  | Text                      | 2.50 or 2,50\n",
        "Calories (Column H) (Optional) | Caloric content of each item              | Numeric                   | 150\n",
        "PortionSize (Column I)        | Portion size for each item in units        | Text                      | 500ml, 1, 2-3\n",
        "Availability (Column J) (Optional) | Current availability of the item     | Numeric: 1 for Yes, 0 for No | 1\n",
        "ItemDescriptionPt (Column K) (Optional) | Detailed description in Portuguese | Text, 500 characters max  | Contains essential minerals\n",
        "ItemDescriptionEn (Column L) (Optional) | Detailed description in English | Text, 500 characters max  | Contains essential minerals\n",
        "\n",
        "Notes:\n",
        "- Ensure all data entered follows the specified formats to maintain database integrity.\n",
        "- Review the data for accuracy and consistency before submitting the Excel sheet.\n",
        "\"\"\"\n"
      ],
      "metadata": {
        "id": "KCaoXXUB8WS1"
      },
      "execution_count": 7,
      "outputs": []
    },
    {
      "cell_type": "code",
      "source": [
        "os.chdir(directory)\n",
        "IMAGE_DIR=directory\n",
        "#print(IMAGE_DIR)\n",
        "def encode_image(image_path):\n",
        "  with open(image_path,\"rb\") as image_file:\n",
        "    return base64.b64encode(image_file.read()).decode('utf-8')\n",
        "\n",
        "image_files = sorted([f for f in os.listdir(f\"{IMAGE_DIR}/Dim Sum\") if f.lower().endswith(('.png', '.jpg', '.jpeg'))])\n",
        "image_files"
      ],
      "metadata": {
        "colab": {
          "base_uri": "https://localhost:8080/"
        },
        "id": "KQzjDnhdjTQ7",
        "outputId": "b98ba9df-eab7-4a3e-b460-6568b71807a8"
      },
      "execution_count": 18,
      "outputs": [
        {
          "output_type": "execute_result",
          "data": {
            "text/plain": [
              "['DimSum Amoreiras 1.PNG',\n",
              " 'DimSum Amoreiras 2.PNG',\n",
              " 'DimSum Amoreiras 3.PNG',\n",
              " 'DimSum Amoreiras 4.PNG',\n",
              " 'DimSum Amoreiras 5.PNG']"
            ]
          },
          "metadata": {},
          "execution_count": 18
        }
      ]
    },
    {
      "cell_type": "code",
      "source": [
        "new_excel_file_name = input(\"Enter the new Excel file name (without extension): \")\n",
        "EXCEL_PATH = os.path.join(directory, f\"{new_excel_file_name}.xlsx\")\n",
        "\n",
        "df = pd.DataFrame(columns=['CategoryTitlePt', 'CategoryTitleEn', 'SubcategoryTitlePt', 'SubcategoryTitleEn',\n",
        "                           'ItemNamePt', 'ItemNameEn', 'ItemPrice', 'Calories', 'PortionSize', 'Availability',\n",
        "                           'ItemDescriptionPt', 'ItemDescriptionEn'])\n",
        "\n",
        "\n",
        "for image in image_files:\n",
        "  # Retrieve and encode the image\n",
        "  IMAGE_DIR = directory\n",
        "  IMAGE_DIR = f\"{IMAGE_DIR}/Dim Sum\"\n",
        "  image_path = os.path.join(IMAGE_DIR, image)\n",
        "  image_data = encode_image(image_path)\n",
        "\n",
        "  # Adding a flag for the headers\n",
        "  headers_added = False\n",
        "\n",
        "  # Use GPT-4o to analyze and convert the imae\n",
        "  response = client.chat.completions.create(\n",
        "      model=MODEL,\n",
        "      messages=[\n",
        "          {\"role\": \"system\", \"content\": system_prompt},\n",
        "          {\"role\": \"user\", \"content\": [\n",
        "              {'type': 'text',\n",
        "              'text': \"Convert this menu image to a structured Excel Sheet Format.\"},\n",
        "              {'type': 'image_url',\n",
        "              'image_url': {'url': f'data:image/png;base64,{image_data}'}}\n",
        "          ]}],\n",
        "      temperature = 0\n",
        "  )\n",
        "\n",
        "  for row in response.choices[0].message.content.split('\\n'):\n",
        "    if row.startswith('|') and not row.startswith('|-'): # Ensure that the data is a row and not a header format\n",
        "      columns = [col.strip() for col in row.split('|')[1:-1]]\n",
        "      if len(columns) == len(df.columns):\n",
        "        if 'CategoryTitlePt' in columns:\n",
        "          headers_added = True\n",
        "          continue\n",
        "        if headers_added and 'CategoryTitlePt' in columns:\n",
        "          continue # skip the row\n",
        "        new_row = pd.Series(columns, index=df.columns)\n",
        "        df = pd.concat([df, pd.DataFrame([new_row])], ignore_index=True)\n",
        "      else:\n",
        "        print(f\"Skipping row { row}\")\n",
        "\n",
        "df.to_excel(EXCEL_PATH, index=False)\n",
        "print(f\"Excel file saved at: {EXCEL_PATH}\")"
      ],
      "metadata": {
        "colab": {
          "base_uri": "https://localhost:8080/"
        },
        "id": "Kdx7u5fxl0En",
        "outputId": "3bacd87b-cef6-474a-9f9a-8cf78f78da27"
      },
      "execution_count": 24,
      "outputs": [
        {
          "output_type": "stream",
          "name": "stdout",
          "text": [
            "Enter the new Excel file name (without extension): 18112024\n",
            "Excel file saved at: /content/drive/MyDrive/GenAI/OpenAI/OpenAI Project/18112024.xlsx\n"
          ]
        }
      ]
    },
    {
      "cell_type": "code",
      "source": [],
      "metadata": {
        "id": "15LvDVG1qPS2"
      },
      "execution_count": null,
      "outputs": []
    },
    {
      "cell_type": "code",
      "source": [],
      "metadata": {
        "id": "8ORiaIY9uO8T"
      },
      "execution_count": null,
      "outputs": []
    },
    {
      "cell_type": "code",
      "source": [],
      "metadata": {
        "id": "qN64GRpKuPSd"
      },
      "execution_count": null,
      "outputs": []
    }
  ]
}