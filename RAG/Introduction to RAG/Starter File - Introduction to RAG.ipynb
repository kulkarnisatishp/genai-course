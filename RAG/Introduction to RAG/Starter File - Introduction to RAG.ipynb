{
  "nbformat": 4,
  "nbformat_minor": 0,
  "metadata": {
    "colab": {
      "provenance": []
    },
    "kernelspec": {
      "name": "python3",
      "display_name": "Python 3"
    },
    "language_info": {
      "name": "python"
    }
  },
  "cells": [
    {
      "cell_type": "code",
      "execution_count": 7,
      "metadata": {
        "id": "BaUFymhwJWyM"
      },
      "outputs": [],
      "source": [
        "# Sample dataset with 30 facts about Berlin\n",
        "documents = [\n",
        "    \"Berlin is the capital and largest city of Germany by both area and population.\",\n",
        "    \"Berlin is known for its art scene and modern landmarks like the Berliner Philharmonie.\",\n",
        "    \"The Berlin Wall, which divided the city from 1961 to 1989, was a significant Cold War symbol.\",\n",
        "    \"Berlin has more bridges than Venice, with around 1,700 bridges.\",\n",
        "    \"The city's Zoological Garden is the most visited zoo in Europe and one of the most popular worldwide.\",\n",
        "    \"Berlin's Museum Island is a UNESCO World Heritage site with five world-renowned museums.\",\n",
        "    \"The Reichstag building houses the German Bundestag (Federal Parliament).\",\n",
        "    \"Berlin is famous for its diverse architecture, ranging from historic buildings to modern structures.\",\n",
        "    \"The Berlin Marathon is one of the world's largest and most popular marathons.\",\n",
        "    \"Berlin's public transportation system includes buses, trams, U-Bahn (subway), and S-Bahn (commuter train).\",\n",
        "    \"The Brandenburg Gate is an iconic neoclassical monument in Berlin.\",\n",
        "    \"Berlin has a thriving startup ecosystem and is considered a major tech hub in Europe.\",\n",
        "    \"The city hosts the Berlinale, one of the most prestigious international film festivals.\",\n",
        "    \"Berlin has more than 180 kilometers of navigable waterways.\",\n",
        "    \"The East Side Gallery is an open-air gallery on a remaining section of the Berlin Wall.\",\n",
        "    \"Berlin's Tempelhofer Feld, a former airport, is now a public park and recreational area.\",\n",
        "    \"The TV Tower at Alexanderplatz offers panoramic views of the city.\",\n",
        "    \"Berlin's Tiergarten is one of the largest urban parks in Germany.\",\n",
        "    \"Checkpoint Charlie was a famous crossing point between East and West Berlin during the Cold War.\",\n",
        "    \"Berlin is home to numerous theaters, including the Berliner Ensemble and the Volksbühne.\",\n",
        "    \"The Berlin Philharmonic Orchestra is one of the most famous orchestras in the world.\",\n",
        "    \"Berlin has a vibrant nightlife scene, with countless bars, clubs, and music venues.\",\n",
        "    \"The Berlin Cathedral is a major Protestant church and a landmark of the city.\",\n",
        "    \"Charlottenburg Palace is the largest palace in Berlin and a major tourist attraction.\",\n",
        "    \"Berlin's Alexanderplatz is a large public square and transport hub in central Berlin.\",\n",
        "    \"Berlin is known for its street art, with many murals and graffiti artworks around the city.\",\n",
        "    \"The Gendarmenmarkt is a historic square in Berlin featuring the Konzerthaus, French Cathedral, and German Cathedral.\",\n",
        "    \"Berlin has a strong coffee culture, with numerous cafés throughout the city.\",\n",
        "    \"The Berlin TV Tower is the tallest structure in Germany, standing at 368 meters.\",\n",
        "    \"Berlin's KaDeWe is one of the largest and most famous department stores in Europe.\",\n",
        "    \"The Berlin U-Bahn network has 10 lines and serves 173 stations.\",\n",
        "    \"Berlin has a population of over 3.6 million people.\",\n",
        "    \"The city of Berlin covers an area of 891.8 square kilometers.\",\n",
        "    \"Berlin has a temperate seasonal climate.\",\n",
        "    \"The Berlin International Film Festival, also known as the Berlinale, is one of the world's leading film festivals.\",\n",
        "    \"Berlin is home to the Humboldt University, founded in 1810.\",\n",
        "    \"The Berlin Hauptbahnhof is the largest train station in Europe.\",\n",
        "    \"Berlin's Tegel Airport closed in 2020, and operations moved to Berlin Brandenburg Airport.\",\n",
        "    \"The Spree River runs through the center of Berlin.\",\n",
        "    \"Berlin is twinned with Los Angeles, California, USA.\",\n",
        "    \"The Berlin Botanical Garden is one of the largest and most important botanical gardens in the world.\",\n",
        "    \"Berlin has over 2,500 public parks and gardens.\",\n",
        "    \"The Victory Column (Siegessäule) is a famous monument in Berlin.\",\n",
        "    \"Berlin's Olympic Stadium was built for the 1936 Summer Olympics.\",\n",
        "    \"The Berlin State Library is one of the largest libraries in Europe.\",\n",
        "    \"The Berlin Dungeon is a popular tourist attraction that offers a spooky look at the city's history.\",\n",
        "    \"Berlin's economy is based on high-tech industries and the service sector.\",\n",
        "    \"Berlin is a major center for culture, politics, media, and science.\",\n",
        "    \"The Berlin Wall Memorial commemorates the division of Berlin and the victims of the Wall.\",\n",
        "    \"The city has a large Turkish community, with many residents of Turkish descent.\",\n",
        "    \"Berlin's Mauerpark is a popular park known for its flea market and outdoor karaoke sessions.\",\n",
        "    \"The Berlin Zoological Garden is the oldest zoo in Germany, opened in 1844.\",\n",
        "    \"Berlin is known for its diverse culinary scene, including many vegan and vegetarian restaurants.\",\n",
        "    \"The Berliner Dom is a baroque-style cathedral located on Museum Island.\",\n",
        "    \"The DDR Museum in Berlin offers interactive exhibits about life in East Germany.\",\n",
        "    \"Berlin has a strong cycling culture, with many dedicated bike lanes and bike-sharing programs.\",\n",
        "    \"Berlin's Tempodrom is a multi-purpose event venue known for its unique architecture.\",\n",
        "    \"The Berlinische Galerie is a museum of modern art, photography, and architecture.\",\n",
        "    \"Berlin's Volkspark Friedrichshain is the oldest public park in the city, established in 1848.\",\n",
        "    \"The Hackesche Höfe is a complex of interconnected courtyards in Berlin's Mitte district, known for its vibrant nightlife and art scene.\",\n",
        "    \"Berlin's International Congress Center (ICC) is one of the largest conference centers in the world.\"\n",
        "]"
      ]
    },
    {
      "cell_type": "markdown",
      "source": [
        "Tokenization and Embeddings"
      ],
      "metadata": {
        "id": "FDpv6zDEEkb4"
      }
    },
    {
      "cell_type": "code",
      "source": [
        "!pip install faiss-cpu"
      ],
      "metadata": {
        "colab": {
          "base_uri": "https://localhost:8080/"
        },
        "id": "RGbfqobrEfRF",
        "outputId": "27656df3-2c21-4477-8f06-cf1c11e54fe0"
      },
      "execution_count": 8,
      "outputs": [
        {
          "output_type": "stream",
          "name": "stdout",
          "text": [
            "Requirement already satisfied: faiss-cpu in /usr/local/lib/python3.10/dist-packages (1.9.0)\n",
            "Requirement already satisfied: numpy<3.0,>=1.25.0 in /usr/local/lib/python3.10/dist-packages (from faiss-cpu) (1.26.4)\n",
            "Requirement already satisfied: packaging in /usr/local/lib/python3.10/dist-packages (from faiss-cpu) (24.2)\n"
          ]
        }
      ]
    },
    {
      "cell_type": "code",
      "source": [
        "import faiss\n",
        "import numpy as np\n",
        "import torch\n",
        "from transformers import AutoTokenizer, AutoModel"
      ],
      "metadata": {
        "id": "xa4s1wWYE0ca"
      },
      "execution_count": 9,
      "outputs": []
    },
    {
      "cell_type": "code",
      "source": [
        "tokenizer = AutoTokenizer.from_pretrained(\"sentence-transformers/paraphrase-MiniLM-L6-v2\")\n",
        "model = AutoModel.from_pretrained(\"sentence-transformers/paraphrase-MiniLM-L6-v2\")"
      ],
      "metadata": {
        "id": "tyxakHAUFTT9"
      },
      "execution_count": 10,
      "outputs": []
    },
    {
      "cell_type": "code",
      "source": [
        "def embed_text(text,tokenizer,model):\n",
        "    inputs = tokenizer(text, return_tensors=\"pt\", padding=True, truncation=True)\n",
        "    with torch.no_grad():\n",
        "        embeddings = model(**inputs).last_hidden_state\n",
        "        embeddings = embeddings.mean(dim=1)\n",
        "    return embeddings"
      ],
      "metadata": {
        "id": "pv2_3KmEF6Qk"
      },
      "execution_count": 11,
      "outputs": []
    },
    {
      "cell_type": "code",
      "source": [
        "document_embeddings = []\n",
        "for document in documents:\n",
        "    document_embedding = embed_text(document,tokenizer,model)\n",
        "    document_embeddings.append(document_embedding)"
      ],
      "metadata": {
        "id": "0KI-W4RYIRkT"
      },
      "execution_count": 12,
      "outputs": []
    },
    {
      "cell_type": "code",
      "source": [
        "document_embeddings = torch.cat(document_embeddings, dim=0).cpu().numpy()"
      ],
      "metadata": {
        "id": "NUOnoo4XIeP_"
      },
      "execution_count": 13,
      "outputs": []
    },
    {
      "cell_type": "code",
      "source": [
        "index = faiss.IndexFlatL2(document_embeddings.shape[1])\n",
        "index.add(document_embeddings)"
      ],
      "metadata": {
        "id": "iQlELHFxIk_q"
      },
      "execution_count": 14,
      "outputs": []
    },
    {
      "cell_type": "markdown",
      "source": [
        "Learn this in details.."
      ],
      "metadata": {
        "id": "Gi_Oa-hKPDwL"
      }
    },
    {
      "cell_type": "code",
      "source": [
        "def retrieve(query, tokenizer, model, index, documents, top_k=3):\n",
        "    query_embedding = embed_text(query,tokenizer,model)\n",
        "    distances, indices = index.search(query_embedding, top_k)\n",
        "    return [documents[i] for i in indices[0]], distances[0]"
      ],
      "metadata": {
        "id": "33L6XF2fLJsM"
      },
      "execution_count": 47,
      "outputs": []
    },
    {
      "cell_type": "code",
      "source": [
        "query = \"What is the capital of Germany?\"\n",
        "retrieved_documents, distances = retrieve(query, tokenizer, model, index, documents)\n",
        "print(\"Retrieved documents:\", retrieved_documents)\n",
        "print(\"Distances:\", distances)"
      ],
      "metadata": {
        "colab": {
          "base_uri": "https://localhost:8080/"
        },
        "id": "9T6C7o-SMXEV",
        "outputId": "a98bb3f9-d4af-4754-c333-0dace5198f40"
      },
      "execution_count": 48,
      "outputs": [
        {
          "output_type": "stream",
          "name": "stdout",
          "text": [
            "Retrieved documents: ['Berlin is the capital and largest city of Germany by both area and population.', 'Berlin is a major center for culture, politics, media, and science.', 'Berlin is known for its art scene and modern landmarks like the Berliner Philharmonie.']\n",
            "Distances: [36.25392  45.818718 48.381382]\n"
          ]
        }
      ]
    },
    {
      "cell_type": "code",
      "source": [
        "from transformers import AutoModelForCausalLM"
      ],
      "metadata": {
        "id": "ZWmry2rzMxJ6"
      },
      "execution_count": 49,
      "outputs": []
    },
    {
      "cell_type": "code",
      "source": [
        "gen_tokenizer = AutoTokenizer.from_pretrained(\"gpt2\")\n",
        "gen_model = AutoModelForCausalLM.from_pretrained(\"gpt2\")"
      ],
      "metadata": {
        "id": "G2kjQ27JO-kS"
      },
      "execution_count": 54,
      "outputs": []
    },
    {
      "cell_type": "code",
      "source": [
        "gen_tokenizer.pad_token = gen_tokenizer.eos_token\n",
        "#"
      ],
      "metadata": {
        "id": "VAEXS0TlPP1M"
      },
      "execution_count": 55,
      "outputs": []
    },
    {
      "cell_type": "code",
      "source": [
        "context = \"\".join(retrieved_documents)\n",
        "context"
      ],
      "metadata": {
        "colab": {
          "base_uri": "https://localhost:8080/",
          "height": 70
        },
        "id": "vw9qx9kGPkdm",
        "outputId": "d7aed6e6-29a7-4094-9c52-ddd7eacdc042"
      },
      "execution_count": 22,
      "outputs": [
        {
          "output_type": "execute_result",
          "data": {
            "text/plain": [
              "\"Berlin is the capital and largest city of Germany by both area and population.Berlin is a major center for culture, politics, media, and science.Berlin is known for its art scene and modern landmarks like the Berliner Philharmonie.Berlin's Tiergarten is one of the largest urban parks in Germany.Berlin is famous for its diverse architecture, ranging from historic buildings to modern structures.\""
            ],
            "application/vnd.google.colaboratory.intrinsic+json": {
              "type": "string"
            }
          },
          "metadata": {},
          "execution_count": 22
        }
      ]
    },
    {
      "cell_type": "markdown",
      "source": [
        "Check this one out"
      ],
      "metadata": {
        "id": "wowfsQVdRk1u"
      }
    },
    {
      "cell_type": "code",
      "source": [
        "def generate_answer(query, context, tokenizer, model):\n",
        "  input_text = f\"Context: {context}\\nQuestion: {query}\\nAnswer:\"\n",
        "  input = tokenizer(input_text, return_tensors=\"pt\", padding=True, truncation=True)\n",
        "  input_ids = input[\"input_ids\"]\n",
        "  attention_mask = (input_ids != tokenizer.pad_token_id).long()\n",
        "  outputs = gen_model.generate(input_ids, attention_mask=attention_mask, pad_token_id=tokenizer.eos_token_id)\n",
        "  return tokenizer.decode(outputs[0], skip_special_tokens=True)"
      ],
      "metadata": {
        "id": "nHEEbzd8P9fR"
      },
      "execution_count": 41,
      "outputs": []
    },
    {
      "cell_type": "code",
      "source": [
        "generated_answer = generate_answer(query, context, gen_tokenizer, gen_model)\n",
        "generated_answer"
      ],
      "metadata": {
        "colab": {
          "base_uri": "https://localhost:8080/",
          "height": 122
        },
        "id": "nJu6FBIuQgD9",
        "outputId": "6e262b4f-f8a0-4493-cc1f-e06b06bd0611"
      },
      "execution_count": 35,
      "outputs": [
        {
          "output_type": "execute_result",
          "data": {
            "text/plain": [
              "\"Context: Berlin is the capital and largest city of Germany by both area and population.Berlin is a major center for culture, politics, media, and science.Berlin is known for its art scene and modern landmarks like the Berliner Philharmonie.Berlin's Tiergarten is one of the largest urban parks in Germany.Berlin is famous for its diverse architecture, ranging from historic buildings to modern structures.\\nQuestion: What is Berlin famous for?\\nAnswer: Berlin is famous for its architecture, architecture, and architecture. Berlin is famous for its architecture, architecture, and architecture.\\nQuestion: What is Berlin famous for?\\nAnswer: Berlin is famous for its architecture, architecture, and architecture.\\nQuestion: What is Berlin famous for?\\nAnswer: Berlin is famous for its architecture, architecture, and architecture.\\nQuestion: What is Berlin famous for?\\nAnswer: Berlin is famous for its architecture, architecture, and architecture.\\nQuestion: What is Berlin famous for?\\nAnswer: Berlin is famous for its architecture, architecture, and architecture.\\nQuestion: What is Berlin famous for?\\nAnswer: Berlin is famous for its architecture, architecture, and architecture.\\nQuestion: What is Berlin famous for?\\nAnswer: Berlin is famous for its architecture, architecture, and architecture.\\nQuestion: What is Berlin famous for?\\nAnswer: Berlin is famous for its architecture, architecture, and architecture.\\nQuestion: What is Berlin famous for?\\nAnswer: Berlin is famous for its architecture, architecture, and architecture.\\nQuestion: What is Berlin famous for?\\nAnswer: Berlin is famous for its architecture, architecture, and architecture.\\nQuestion: What is Berlin famous for?\\nAnswer: Berlin is famous for its architecture, architecture, and architecture.\\nQuestion: What is Berlin famous for?\\nAnswer: Berlin is famous for its architecture, architecture, and architecture.\\nQuestion: What is Berlin famous for?\\nAnswer: Berlin is famous for its architecture, architecture, and architecture.\\nQuestion: What is Berlin famous for?\\nAnswer: Berlin is famous for its architecture, architecture, and architecture.\\nQuestion: What is Berlin famous for?\\nAnswer: Berlin is famous for its architecture, architecture, and architecture.\\nQuestion: What is Berlin famous for?\\nAnswer: Berlin is famous for its architecture, architecture, and architecture.\\nQuestion: What is Berlin famous for?\\nAnswer: Berlin is famous for its architecture, architecture, and architecture.\\nQuestion: What is Berlin famous for?\\nAnswer: Berlin is famous for its architecture, architecture, and architecture.\\nQuestion: What is Berlin famous for?\\nAnswer: Berlin is famous for its architecture, architecture, and architecture.\\nQuestion: What is Berlin famous for?\\nAnswer: Berlin is famous for its architecture, architecture, and architecture.\\nQuestion: What is Berlin famous for?\\nAnswer: Berlin is famous for its architecture, architecture, and architecture.\\nQuestion: What is Berlin famous for?\\nAnswer: Berlin is famous for its architecture, architecture, and architecture.\\nQuestion: What is Berlin famous for?\\nAnswer: Berlin is famous for its architecture, architecture, and architecture.\\nQuestion: What is Berlin famous for?\\nAnswer: Berlin is famous for its architecture, architecture, and architecture.\\nQuestion: What is Berlin famous for?\\nAnswer: Berlin is famous for its architecture, architecture, and architecture.\\nQuestion: What is Berlin famous for?\\nAnswer: Berlin is famous for its architecture, architecture, and architecture.\\nQuestion: What is Berlin famous for?\\nAnswer: Berlin is famous for its architecture, architecture, and architecture.\\nQuestion: What is Berlin famous for?\\nAnswer: Berlin is famous for its architecture, architecture, and architecture.\\nQuestion: What is Berlin famous for?\\nAnswer: Berlin is famous for its architecture, architecture, and architecture.\\nQuestion: What is Berlin famous for?\\nAnswer: Berlin is famous for its architecture, architecture, and architecture.\\nQuestion: What is Berlin famous for?\\nAnswer: Berlin is famous for its architecture, architecture, and architecture.\\nQuestion: What is Berlin famous for?\\nAnswer: Berlin is famous for its architecture, architecture, and architecture.\\nQuestion: What is Berlin famous for?\\nAnswer: Berlin is famous for its architecture, architecture, and architecture.\\nQuestion: What is Berlin famous for?\\nAnswer: Berlin is famous for its architecture, architecture, and architecture.\\nQuestion: What is Berlin famous for?\\nAnswer: Berlin is famous for its architecture, architecture, and architecture.\\nQuestion: What is Berlin famous for?\\nAnswer: Berlin is famous for its architecture, architecture, and architecture.\\nQuestion: What is Berlin famous for?\\nAnswer: Berlin is famous for its architecture, architecture, and architecture.\\nQuestion: What is Berlin famous for?\\nAnswer: Berlin is famous for its architecture, architecture, and architecture.\\nQuestion: What is Berlin famous for?\\nAnswer: Berlin is\""
            ],
            "application/vnd.google.colaboratory.intrinsic+json": {
              "type": "string"
            }
          },
          "metadata": {},
          "execution_count": 35
        }
      ]
    },
    {
      "cell_type": "code",
      "source": [
        "def rag(query, retrieval_tokenizer, retrieval_model, retrieval_index, documents, gen_tokenizer, gen_modelmodel, top_k=100):\n",
        "    retrieved_documents, distances = retrieve(query, retrieval_model, retrieval_tokenizer,retrieval_index, documents, top_k)\n",
        "    context = \"\".join(retrieved_documents)\n",
        "    generated_answer = generate_answer(query, context, gen_tokenizer, gen_model)\n",
        "    return generated_answer"
      ],
      "metadata": {
        "id": "skHD2Yl-Ta33"
      },
      "execution_count": 50,
      "outputs": []
    },
    {
      "cell_type": "markdown",
      "source": [
        "Need to fix this."
      ],
      "metadata": {
        "id": "bt-1QSXFfmQc"
      }
    },
    {
      "cell_type": "code",
      "source": [
        "query = \"What is Berlin famous for? \"\n",
        "answer = rag(query, tokenizer, model, index, gen_model, gen_tokenizer, documents, 3)\n",
        "print(answer)"
      ],
      "metadata": {
        "colab": {
          "base_uri": "https://localhost:8080/",
          "height": 321
        },
        "id": "rEpwnD48bGhF",
        "outputId": "67b187ef-6d1a-4ba9-db09-739520a2d25a"
      },
      "execution_count": 57,
      "outputs": [
        {
          "output_type": "error",
          "ename": "TypeError",
          "evalue": "BertModel.forward() got an unexpected keyword argument 'return_tensors'",
          "traceback": [
            "\u001b[0;31m---------------------------------------------------------------------------\u001b[0m",
            "\u001b[0;31mTypeError\u001b[0m                                 Traceback (most recent call last)",
            "\u001b[0;32m<ipython-input-57-e8a713a60d9e>\u001b[0m in \u001b[0;36m<cell line: 2>\u001b[0;34m()\u001b[0m\n\u001b[1;32m      1\u001b[0m \u001b[0mquery\u001b[0m \u001b[0;34m=\u001b[0m \u001b[0;34m\"What is Berlin famous for?\"\u001b[0m\u001b[0;34m\u001b[0m\u001b[0;34m\u001b[0m\u001b[0m\n\u001b[0;32m----> 2\u001b[0;31m \u001b[0manswer\u001b[0m \u001b[0;34m=\u001b[0m \u001b[0mrag\u001b[0m\u001b[0;34m(\u001b[0m\u001b[0mquery\u001b[0m\u001b[0;34m,\u001b[0m \u001b[0mtokenizer\u001b[0m\u001b[0;34m,\u001b[0m \u001b[0mmodel\u001b[0m\u001b[0;34m,\u001b[0m \u001b[0mindex\u001b[0m\u001b[0;34m,\u001b[0m \u001b[0mgen_model\u001b[0m\u001b[0;34m,\u001b[0m \u001b[0mgen_tokenizer\u001b[0m\u001b[0;34m,\u001b[0m \u001b[0mdocuments\u001b[0m\u001b[0;34m,\u001b[0m \u001b[0;36m3\u001b[0m\u001b[0;34m)\u001b[0m\u001b[0;34m\u001b[0m\u001b[0;34m\u001b[0m\u001b[0m\n\u001b[0m\u001b[1;32m      3\u001b[0m \u001b[0mprint\u001b[0m\u001b[0;34m(\u001b[0m\u001b[0manswer\u001b[0m\u001b[0;34m)\u001b[0m\u001b[0;34m\u001b[0m\u001b[0;34m\u001b[0m\u001b[0m\n",
            "\u001b[0;32m<ipython-input-50-0063bf8b9f93>\u001b[0m in \u001b[0;36mrag\u001b[0;34m(query, retrieval_tokenizer, retrieval_model, retrieval_index, documents, gen_tokenizer, gen_modelmodel, top_k)\u001b[0m\n\u001b[1;32m      1\u001b[0m \u001b[0;32mdef\u001b[0m \u001b[0mrag\u001b[0m\u001b[0;34m(\u001b[0m\u001b[0mquery\u001b[0m\u001b[0;34m,\u001b[0m \u001b[0mretrieval_tokenizer\u001b[0m\u001b[0;34m,\u001b[0m \u001b[0mretrieval_model\u001b[0m\u001b[0;34m,\u001b[0m \u001b[0mretrieval_index\u001b[0m\u001b[0;34m,\u001b[0m \u001b[0mdocuments\u001b[0m\u001b[0;34m,\u001b[0m \u001b[0mgen_tokenizer\u001b[0m\u001b[0;34m,\u001b[0m \u001b[0mgen_modelmodel\u001b[0m\u001b[0;34m,\u001b[0m \u001b[0mtop_k\u001b[0m\u001b[0;34m=\u001b[0m\u001b[0;36m100\u001b[0m\u001b[0;34m)\u001b[0m\u001b[0;34m:\u001b[0m\u001b[0;34m\u001b[0m\u001b[0;34m\u001b[0m\u001b[0m\n\u001b[0;32m----> 2\u001b[0;31m     \u001b[0mretrieved_documents\u001b[0m\u001b[0;34m,\u001b[0m \u001b[0mdistances\u001b[0m \u001b[0;34m=\u001b[0m \u001b[0mretrieve\u001b[0m\u001b[0;34m(\u001b[0m\u001b[0mquery\u001b[0m\u001b[0;34m,\u001b[0m \u001b[0mretrieval_model\u001b[0m\u001b[0;34m,\u001b[0m \u001b[0mretrieval_tokenizer\u001b[0m\u001b[0;34m,\u001b[0m\u001b[0mretrieval_index\u001b[0m\u001b[0;34m,\u001b[0m \u001b[0mdocuments\u001b[0m\u001b[0;34m,\u001b[0m \u001b[0mtop_k\u001b[0m\u001b[0;34m)\u001b[0m\u001b[0;34m\u001b[0m\u001b[0;34m\u001b[0m\u001b[0m\n\u001b[0m\u001b[1;32m      3\u001b[0m     \u001b[0mcontext\u001b[0m \u001b[0;34m=\u001b[0m \u001b[0;34m\"\"\u001b[0m\u001b[0;34m.\u001b[0m\u001b[0mjoin\u001b[0m\u001b[0;34m(\u001b[0m\u001b[0mretrieved_documents\u001b[0m\u001b[0;34m)\u001b[0m\u001b[0;34m\u001b[0m\u001b[0;34m\u001b[0m\u001b[0m\n\u001b[1;32m      4\u001b[0m     \u001b[0mgenerated_answer\u001b[0m \u001b[0;34m=\u001b[0m \u001b[0mgenerate_answer\u001b[0m\u001b[0;34m(\u001b[0m\u001b[0mquery\u001b[0m\u001b[0;34m,\u001b[0m \u001b[0mcontext\u001b[0m\u001b[0;34m,\u001b[0m \u001b[0mgen_tokenizer\u001b[0m\u001b[0;34m,\u001b[0m \u001b[0mgen_model\u001b[0m\u001b[0;34m)\u001b[0m\u001b[0;34m\u001b[0m\u001b[0;34m\u001b[0m\u001b[0m\n\u001b[1;32m      5\u001b[0m     \u001b[0;32mreturn\u001b[0m \u001b[0mgenerated_answer\u001b[0m\u001b[0;34m\u001b[0m\u001b[0;34m\u001b[0m\u001b[0m\n",
            "\u001b[0;32m<ipython-input-47-427c27124a7f>\u001b[0m in \u001b[0;36mretrieve\u001b[0;34m(query, tokenizer, model, index, documents, top_k)\u001b[0m\n\u001b[1;32m      1\u001b[0m \u001b[0;32mdef\u001b[0m \u001b[0mretrieve\u001b[0m\u001b[0;34m(\u001b[0m\u001b[0mquery\u001b[0m\u001b[0;34m,\u001b[0m \u001b[0mtokenizer\u001b[0m\u001b[0;34m,\u001b[0m \u001b[0mmodel\u001b[0m\u001b[0;34m,\u001b[0m \u001b[0mindex\u001b[0m\u001b[0;34m,\u001b[0m \u001b[0mdocuments\u001b[0m\u001b[0;34m,\u001b[0m \u001b[0mtop_k\u001b[0m\u001b[0;34m=\u001b[0m\u001b[0;36m3\u001b[0m\u001b[0;34m)\u001b[0m\u001b[0;34m:\u001b[0m\u001b[0;34m\u001b[0m\u001b[0;34m\u001b[0m\u001b[0m\n\u001b[0;32m----> 2\u001b[0;31m     \u001b[0mquery_embedding\u001b[0m \u001b[0;34m=\u001b[0m \u001b[0membed_text\u001b[0m\u001b[0;34m(\u001b[0m\u001b[0mquery\u001b[0m\u001b[0;34m,\u001b[0m\u001b[0mtokenizer\u001b[0m\u001b[0;34m,\u001b[0m\u001b[0mmodel\u001b[0m\u001b[0;34m)\u001b[0m\u001b[0;34m\u001b[0m\u001b[0;34m\u001b[0m\u001b[0m\n\u001b[0m\u001b[1;32m      3\u001b[0m     \u001b[0mdistances\u001b[0m\u001b[0;34m,\u001b[0m \u001b[0mindices\u001b[0m \u001b[0;34m=\u001b[0m \u001b[0mindex\u001b[0m\u001b[0;34m.\u001b[0m\u001b[0msearch\u001b[0m\u001b[0;34m(\u001b[0m\u001b[0mquery_embedding\u001b[0m\u001b[0;34m,\u001b[0m \u001b[0mtop_k\u001b[0m\u001b[0;34m)\u001b[0m\u001b[0;34m\u001b[0m\u001b[0;34m\u001b[0m\u001b[0m\n\u001b[1;32m      4\u001b[0m     \u001b[0;32mreturn\u001b[0m \u001b[0;34m[\u001b[0m\u001b[0mdocuments\u001b[0m\u001b[0;34m[\u001b[0m\u001b[0mi\u001b[0m\u001b[0;34m]\u001b[0m \u001b[0;32mfor\u001b[0m \u001b[0mi\u001b[0m \u001b[0;32min\u001b[0m \u001b[0mindices\u001b[0m\u001b[0;34m[\u001b[0m\u001b[0;36m0\u001b[0m\u001b[0;34m]\u001b[0m\u001b[0;34m]\u001b[0m\u001b[0;34m,\u001b[0m \u001b[0mdistances\u001b[0m\u001b[0;34m[\u001b[0m\u001b[0;36m0\u001b[0m\u001b[0;34m]\u001b[0m\u001b[0;34m\u001b[0m\u001b[0;34m\u001b[0m\u001b[0m\n",
            "\u001b[0;32m<ipython-input-11-101902a9ff82>\u001b[0m in \u001b[0;36membed_text\u001b[0;34m(text, tokenizer, model)\u001b[0m\n\u001b[1;32m      1\u001b[0m \u001b[0;32mdef\u001b[0m \u001b[0membed_text\u001b[0m\u001b[0;34m(\u001b[0m\u001b[0mtext\u001b[0m\u001b[0;34m,\u001b[0m\u001b[0mtokenizer\u001b[0m\u001b[0;34m,\u001b[0m\u001b[0mmodel\u001b[0m\u001b[0;34m)\u001b[0m\u001b[0;34m:\u001b[0m\u001b[0;34m\u001b[0m\u001b[0;34m\u001b[0m\u001b[0m\n\u001b[0;32m----> 2\u001b[0;31m     \u001b[0minputs\u001b[0m \u001b[0;34m=\u001b[0m \u001b[0mtokenizer\u001b[0m\u001b[0;34m(\u001b[0m\u001b[0mtext\u001b[0m\u001b[0;34m,\u001b[0m \u001b[0mreturn_tensors\u001b[0m\u001b[0;34m=\u001b[0m\u001b[0;34m\"pt\"\u001b[0m\u001b[0;34m,\u001b[0m \u001b[0mpadding\u001b[0m\u001b[0;34m=\u001b[0m\u001b[0;32mTrue\u001b[0m\u001b[0;34m,\u001b[0m \u001b[0mtruncation\u001b[0m\u001b[0;34m=\u001b[0m\u001b[0;32mTrue\u001b[0m\u001b[0;34m)\u001b[0m\u001b[0;34m\u001b[0m\u001b[0;34m\u001b[0m\u001b[0m\n\u001b[0m\u001b[1;32m      3\u001b[0m     \u001b[0;32mwith\u001b[0m \u001b[0mtorch\u001b[0m\u001b[0;34m.\u001b[0m\u001b[0mno_grad\u001b[0m\u001b[0;34m(\u001b[0m\u001b[0;34m)\u001b[0m\u001b[0;34m:\u001b[0m\u001b[0;34m\u001b[0m\u001b[0;34m\u001b[0m\u001b[0m\n\u001b[1;32m      4\u001b[0m         \u001b[0membeddings\u001b[0m \u001b[0;34m=\u001b[0m \u001b[0mmodel\u001b[0m\u001b[0;34m(\u001b[0m\u001b[0;34m**\u001b[0m\u001b[0minputs\u001b[0m\u001b[0;34m)\u001b[0m\u001b[0;34m.\u001b[0m\u001b[0mlast_hidden_state\u001b[0m\u001b[0;34m\u001b[0m\u001b[0;34m\u001b[0m\u001b[0m\n\u001b[1;32m      5\u001b[0m         \u001b[0membeddings\u001b[0m \u001b[0;34m=\u001b[0m \u001b[0membeddings\u001b[0m\u001b[0;34m.\u001b[0m\u001b[0mmean\u001b[0m\u001b[0;34m(\u001b[0m\u001b[0mdim\u001b[0m\u001b[0;34m=\u001b[0m\u001b[0;36m1\u001b[0m\u001b[0;34m)\u001b[0m\u001b[0;34m\u001b[0m\u001b[0;34m\u001b[0m\u001b[0m\n",
            "\u001b[0;32m/usr/local/lib/python3.10/dist-packages/torch/nn/modules/module.py\u001b[0m in \u001b[0;36m_wrapped_call_impl\u001b[0;34m(self, *args, **kwargs)\u001b[0m\n\u001b[1;32m   1734\u001b[0m             \u001b[0;32mreturn\u001b[0m \u001b[0mself\u001b[0m\u001b[0;34m.\u001b[0m\u001b[0m_compiled_call_impl\u001b[0m\u001b[0;34m(\u001b[0m\u001b[0;34m*\u001b[0m\u001b[0margs\u001b[0m\u001b[0;34m,\u001b[0m \u001b[0;34m**\u001b[0m\u001b[0mkwargs\u001b[0m\u001b[0;34m)\u001b[0m  \u001b[0;31m# type: ignore[misc]\u001b[0m\u001b[0;34m\u001b[0m\u001b[0;34m\u001b[0m\u001b[0m\n\u001b[1;32m   1735\u001b[0m         \u001b[0;32melse\u001b[0m\u001b[0;34m:\u001b[0m\u001b[0;34m\u001b[0m\u001b[0;34m\u001b[0m\u001b[0m\n\u001b[0;32m-> 1736\u001b[0;31m             \u001b[0;32mreturn\u001b[0m \u001b[0mself\u001b[0m\u001b[0;34m.\u001b[0m\u001b[0m_call_impl\u001b[0m\u001b[0;34m(\u001b[0m\u001b[0;34m*\u001b[0m\u001b[0margs\u001b[0m\u001b[0;34m,\u001b[0m \u001b[0;34m**\u001b[0m\u001b[0mkwargs\u001b[0m\u001b[0;34m)\u001b[0m\u001b[0;34m\u001b[0m\u001b[0;34m\u001b[0m\u001b[0m\n\u001b[0m\u001b[1;32m   1737\u001b[0m \u001b[0;34m\u001b[0m\u001b[0m\n\u001b[1;32m   1738\u001b[0m     \u001b[0;31m# torchrec tests the code consistency with the following code\u001b[0m\u001b[0;34m\u001b[0m\u001b[0;34m\u001b[0m\u001b[0m\n",
            "\u001b[0;32m/usr/local/lib/python3.10/dist-packages/torch/nn/modules/module.py\u001b[0m in \u001b[0;36m_call_impl\u001b[0;34m(self, *args, **kwargs)\u001b[0m\n\u001b[1;32m   1745\u001b[0m                 \u001b[0;32mor\u001b[0m \u001b[0m_global_backward_pre_hooks\u001b[0m \u001b[0;32mor\u001b[0m \u001b[0m_global_backward_hooks\u001b[0m\u001b[0;34m\u001b[0m\u001b[0;34m\u001b[0m\u001b[0m\n\u001b[1;32m   1746\u001b[0m                 or _global_forward_hooks or _global_forward_pre_hooks):\n\u001b[0;32m-> 1747\u001b[0;31m             \u001b[0;32mreturn\u001b[0m \u001b[0mforward_call\u001b[0m\u001b[0;34m(\u001b[0m\u001b[0;34m*\u001b[0m\u001b[0margs\u001b[0m\u001b[0;34m,\u001b[0m \u001b[0;34m**\u001b[0m\u001b[0mkwargs\u001b[0m\u001b[0;34m)\u001b[0m\u001b[0;34m\u001b[0m\u001b[0;34m\u001b[0m\u001b[0m\n\u001b[0m\u001b[1;32m   1748\u001b[0m \u001b[0;34m\u001b[0m\u001b[0m\n\u001b[1;32m   1749\u001b[0m         \u001b[0mresult\u001b[0m \u001b[0;34m=\u001b[0m \u001b[0;32mNone\u001b[0m\u001b[0;34m\u001b[0m\u001b[0;34m\u001b[0m\u001b[0m\n",
            "\u001b[0;31mTypeError\u001b[0m: BertModel.forward() got an unexpected keyword argument 'return_tensors'"
          ]
        }
      ]
    },
    {
      "cell_type": "markdown",
      "source": [],
      "metadata": {
        "id": "K5hPpeLHfkTj"
      }
    },
    {
      "cell_type": "code",
      "source": [],
      "metadata": {
        "id": "DeHVfDwybW_I"
      },
      "execution_count": null,
      "outputs": []
    }
  ]
}